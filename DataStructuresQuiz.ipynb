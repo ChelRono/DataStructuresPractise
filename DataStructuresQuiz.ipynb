{
 "cells": [
  {
   "cell_type": "markdown",
   "id": "df9bf9ba-7cb1-472c-b51c-aa9448306dbd",
   "metadata": {},
   "source": [
    "**1). Write a Python program to check whether a string is a palindrome or not using a stack.**\r\n"
   ]
  },
  {
   "cell_type": "code",
   "execution_count": 17,
   "id": "36393b1e-190a-41df-ab8f-d41eaf6ac888",
   "metadata": {},
   "outputs": [
    {
     "name": "stdin",
     "output_type": "stream",
     "text": [
      "Please enter the string:  radar\n"
     ]
    },
    {
     "name": "stdout",
     "output_type": "stream",
     "text": [
      "The string is a palindrome.\n"
     ]
    }
   ],
   "source": [
    "# A Palindrome is a word or phrase that reads the same backwards as fowards. Examples inlude : radar, madam etc\n",
    "# A Stack is a collection of elements with two operations i.e push and pop\n",
    "\n",
    "class Stack:\n",
    "    def __init__(self):\n",
    "        self.items = []\n",
    " \n",
    "    def is_empty(self):\n",
    "        return self.items == []\n",
    " \n",
    "    def push(self, data):\n",
    "        self.items.append(data)\n",
    " \n",
    "    def pop(self):\n",
    "        return self.items.pop()\n",
    " \n",
    " \n",
    "s = Stack()\n",
    "text = input('Please enter the string: ')\n",
    " \n",
    "for character in text:\n",
    "    s.push(character)\n",
    " \n",
    "reversed_text = ''\n",
    "while not s.is_empty():\n",
    "    reversed_text = reversed_text + s.pop()\n",
    " \n",
    "if text == reversed_text:\n",
    "    print('The string is a palindrome.')\n",
    "else:\n",
    "    print('The string is not a palindrome.')\n"
   ]
  },
  {
   "cell_type": "markdown",
   "id": "b2264ecf-49ba-4cd6-9ab6-31aac03870a0",
   "metadata": {},
   "source": [
    "**2). Explain the concept of list comprehension in Python with at least three examples.**\r\n"
   ]
  },
  {
   "cell_type": "code",
   "execution_count": 12,
   "id": "4187bd4a-ae1e-4049-9897-3946557afb0f",
   "metadata": {},
   "outputs": [
    {
     "name": "stdout",
     "output_type": "stream",
     "text": [
      "['Chela']\n",
      "['r', 'g', 'b', 'y']\n",
      "[512, 729, 1000, 1331]\n"
     ]
    }
   ],
   "source": [
    "# A List is a built-in data structure in Python used to store a collection of items\n",
    "# List Comprehension offers a shorter syntax when you want to create a new list based on the values of an existing list.\n",
    "\n",
    "# Example 1\n",
    "names = [\"Chela\", \"Chiri\", \"Vicky\", \"Lopy\", \"Chepko\"]\n",
    "newlist = []\n",
    "\n",
    "for x in names:\n",
    "  if \"a\" in x:\n",
    "    newlist.append(x)\n",
    "\n",
    "print(newlist)\n",
    "\n",
    "# Example 2\n",
    "colors = [\"red\", \"green\", \"blue\", \"yellow\"]\n",
    "\n",
    "new_word_list = [ word[0] for word in colors]\n",
    "\n",
    "print (new_word_list)\n",
    "\n",
    "# Example 3\n",
    "numbers = [8, 9, 10, 11]\n",
    "\n",
    "new_cube_list = [item**3 for item in numbers]\n",
    "\n",
    "print (new_cube_list)\n"
   ]
  },
  {
   "cell_type": "markdown",
   "id": "cda6d4a7-6c55-4801-a156-76ca4ad1b356",
   "metadata": {},
   "source": [
    "**3). Explain what a compound datatype is in Python with three examples.**\r\n"
   ]
  },
  {
   "cell_type": "code",
   "execution_count": 15,
   "id": "395d0013-821c-4060-b890-42c7dd0845c5",
   "metadata": {},
   "outputs": [
    {
     "name": "stdout",
     "output_type": "stream",
     "text": [
      "Size of a List =  3\n",
      "('Welcome', 'this', 'is', 'my', 'Website')\n",
      "[10, 12, 14]\n"
     ]
    }
   ],
   "source": [
    "# Compound data types are data types that can store a large number of values. An example includes Lists\n",
    "\n",
    "# Example 1\n",
    "lst = [\"Hello\",\"Hi\", \"Everyone\"]\n",
    "\n",
    "listLength = len(lst)\n",
    "\n",
    "print(\"Size of a List = \", listLength)\n",
    "\n",
    "# Example 2\n",
    "givenTuple = (\"Welcome\", \"this\", \"is\", \"my\", \"Website\")\n",
    "\n",
    "print(givenTuple)\n",
    "\n",
    "# Example 3\n",
    "demoDictionary = {10: 'TutorialsPoint', 12: 'Python', 14: 'Codes'}\n",
    "\n",
    "print(list(demoDictionary.keys()))"
   ]
  },
  {
   "cell_type": "markdown",
   "id": "20965438-0c7b-4a11-b3b0-87f8fbfc8664",
   "metadata": {},
   "source": [
    "**4). Write a function that takes a string and returns a list of bigrams.**\r\n"
   ]
  },
  {
   "cell_type": "code",
   "execution_count": 16,
   "id": "765ee1b4-1968-4cd0-9128-c81789a169b3",
   "metadata": {},
   "outputs": [
    {
     "name": "stdout",
     "output_type": "stream",
     "text": [
      "The original list is : ['geeksforgeeks is best', 'I love it']\n",
      "The formed bigrams are : [('geeksforgeeks', 'is'), ('is', 'best'), ('I', 'love'), ('love', 'it')]\n"
     ]
    }
   ],
   "source": [
    "# Bigrams are two words that contain a distinct meaning when used together\n",
    "\n",
    "# using list comprehension + enumerate() + split() \n",
    "test_list = ['geeksforgeeks is best', 'I love it']\n",
    "\n",
    "# printing the original list \n",
    "print (\"The original list is : \" + str(test_list))\n",
    "\n",
    "# using list comprehension + enumerate() + split()\n",
    "# for Bigram formation\n",
    "res = [(x, i.split()[j + 1]) for i in test_list \n",
    "\tfor j, x in enumerate(i.split()) if j < len(i.split()) - 1]\n",
    "\n",
    "# printing result\n",
    "print (\"The formed bigrams are : \" + str(res))\n"
   ]
  },
  {
   "cell_type": "markdown",
   "id": "7cf8eb0c-703b-47d6-ad53-dd3308544e2b",
   "metadata": {},
   "source": [
    "**5). Given a dictionary with keys as letters and values as lists of letters, write a function closest_key to find the key with the input value closest to the beginning of the list.**"
   ]
  },
  {
   "cell_type": "code",
   "execution_count": 19,
   "id": "ff8a974b-91ad-4d6c-9064-76e49074e732",
   "metadata": {},
   "outputs": [
    {
     "name": "stdout",
     "output_type": "stream",
     "text": [
      "1, 4.5\n"
     ]
    }
   ],
   "source": [
    "# A Dictionary is used to store data values in key-value pairs\n",
    "\n",
    "value = 4.3\n",
    "d = {'1': 4.5, '2': 0.2, '3': 2.2, '4': 10}\n",
    "\n",
    "res_key, res_val = min(d.items(), key=lambda x: abs(value - x[1]))\n",
    "\n",
    "print(res_key, res_val, sep=', ')\n"
   ]
  },
  {
   "cell_type": "code",
   "execution_count": null,
   "id": "2b366c44-2b20-4641-ab19-54f7d5b45f8a",
   "metadata": {},
   "outputs": [],
   "source": []
  }
 ],
 "metadata": {
  "kernelspec": {
   "display_name": "Python 3 (ipykernel)",
   "language": "python",
   "name": "python3"
  },
  "language_info": {
   "codemirror_mode": {
    "name": "ipython",
    "version": 3
   },
   "file_extension": ".py",
   "mimetype": "text/x-python",
   "name": "python",
   "nbconvert_exporter": "python",
   "pygments_lexer": "ipython3",
   "version": "3.11.7"
  }
 },
 "nbformat": 4,
 "nbformat_minor": 5
}
